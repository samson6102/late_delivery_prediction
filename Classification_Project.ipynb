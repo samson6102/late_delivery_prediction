{
  "nbformat": 4,
  "nbformat_minor": 0,
  "metadata": {
    "colab": {
      "provenance": []
    },
    "kernelspec": {
      "name": "python3",
      "display_name": "Python 3"
    },
    "language_info": {
      "name": "python"
    }
  },
  "cells": [
    {
      "cell_type": "code",
      "execution_count": 1,
      "metadata": {
        "id": "JAvNPzSp38QV"
      },
      "outputs": [],
      "source": [
        "import pandas as pd"
      ]
    },
    {
      "cell_type": "code",
      "source": [
        "df = pd.read_csv(\"/content/DataCoSupplyChainDataset.csv\", encoding='latin-1') # or encoding='cp1252'"
      ],
      "metadata": {
        "colab": {
          "base_uri": "https://localhost:8080/"
        },
        "id": "f02HCVB37GBE",
        "outputId": "1ff2232a-f1de-4aa0-b25f-3afde313a5a6"
      },
      "execution_count": 2,
      "outputs": [
        {
          "output_type": "stream",
          "name": "stderr",
          "text": [
            "<ipython-input-2-f801cb3e7bd6>:1: DtypeWarning: Columns (54) have mixed types. Specify dtype option on import or set low_memory=False.\n",
            "  df = pd.read_csv(\"/content/DataCoSupplyChainDataset.csv\", encoding='latin-1') # or encoding='cp1252'\n"
          ]
        }
      ]
    },
    {
      "cell_type": "code",
      "source": [
        "df.info()"
      ],
      "metadata": {
        "colab": {
          "base_uri": "https://localhost:8080/"
        },
        "id": "GzpPCrru7i41",
        "outputId": "72e0b3f0-4fe0-453d-e79e-a412065ab60e"
      },
      "execution_count": 3,
      "outputs": [
        {
          "output_type": "stream",
          "name": "stdout",
          "text": [
            "<class 'pandas.core.frame.DataFrame'>\n",
            "RangeIndex: 180519 entries, 0 to 180518\n",
            "Data columns (total 55 columns):\n",
            " #   Column                         Non-Null Count   Dtype  \n",
            "---  ------                         --------------   -----  \n",
            " 0   Type                           180519 non-null  object \n",
            " 1   Days for shipping (real)       180519 non-null  int64  \n",
            " 2   Days for shipment (scheduled)  180519 non-null  int64  \n",
            " 3   Benefit per order              180519 non-null  float64\n",
            " 4   Sales per customer             180519 non-null  float64\n",
            " 5   Delivery Status                180519 non-null  object \n",
            " 6   Late_delivery_risk             180519 non-null  int64  \n",
            " 7   Category Id                    180519 non-null  int64  \n",
            " 8   Category Name                  180519 non-null  object \n",
            " 9   Customer City                  180519 non-null  object \n",
            " 10  Customer Country               180519 non-null  object \n",
            " 11  Customer Email                 180519 non-null  object \n",
            " 12  Customer Fname                 180519 non-null  object \n",
            " 13  Customer Id                    180519 non-null  int64  \n",
            " 14  Customer Lname                 180511 non-null  object \n",
            " 15  Customer Password              180519 non-null  object \n",
            " 16  Customer Segment               180519 non-null  object \n",
            " 17  Customer State                 180519 non-null  object \n",
            " 18  Customer Street                180519 non-null  object \n",
            " 19  Customer Zipcode               180516 non-null  float64\n",
            " 20  Department Id                  180519 non-null  int64  \n",
            " 21  Department Name                180519 non-null  object \n",
            " 22  Latitude                       180519 non-null  float64\n",
            " 23  Longitude                      180519 non-null  float64\n",
            " 24  Market                         180519 non-null  object \n",
            " 25  Order City                     180519 non-null  object \n",
            " 26  Order Country                  180519 non-null  object \n",
            " 27  Order Customer Id              180519 non-null  int64  \n",
            " 28  order date (DateOrders)        180519 non-null  object \n",
            " 29  Order Id                       180519 non-null  int64  \n",
            " 30  Order Item Cardprod Id         180519 non-null  int64  \n",
            " 31  Order Item Discount            180519 non-null  float64\n",
            " 32  Order Item Discount Rate       180519 non-null  float64\n",
            " 33  Order Item Id                  180519 non-null  int64  \n",
            " 34  Order Item Product Price       180519 non-null  float64\n",
            " 35  Order Item Profit Ratio        180519 non-null  float64\n",
            " 36  Order Item Quantity            180519 non-null  int64  \n",
            " 37  Sales                          180519 non-null  float64\n",
            " 38  Order Item Total               180519 non-null  float64\n",
            " 39  Order Profit Per Order         180519 non-null  float64\n",
            " 40  Order Region                   180519 non-null  object \n",
            " 41  Order State                    180519 non-null  object \n",
            " 42  Order Status                   180519 non-null  object \n",
            " 43  Order Zipcode                  24840 non-null   float64\n",
            " 44  Product Card Id                180519 non-null  int64  \n",
            " 45  Product Category Id            180519 non-null  int64  \n",
            " 46  Product Description            0 non-null       float64\n",
            " 47  Product Image                  180519 non-null  object \n",
            " 48  Product Name                   180519 non-null  object \n",
            " 49  Product Price                  180519 non-null  float64\n",
            " 50  Product Status                 180519 non-null  int64  \n",
            " 51  shipping date (DateOrders)     180519 non-null  object \n",
            " 52  Shipping Mode                  180519 non-null  object \n",
            " 53  Unnamed: 53                    0 non-null       float64\n",
            " 54  Unnamed: 54                    1 non-null       object \n",
            "dtypes: float64(16), int64(14), object(25)\n",
            "memory usage: 75.7+ MB\n"
          ]
        }
      ]
    },
    {
      "cell_type": "code",
      "source": [
        "missing_values = df.isna().sum()\n",
        "print(missing_values)"
      ],
      "metadata": {
        "colab": {
          "base_uri": "https://localhost:8080/"
        },
        "id": "_3LtNpAA-b2e",
        "outputId": "39b3825b-3f21-43f4-d594-7d163cf26009"
      },
      "execution_count": 4,
      "outputs": [
        {
          "output_type": "stream",
          "name": "stdout",
          "text": [
            "Type                                  0\n",
            "Days for shipping (real)              0\n",
            "Days for shipment (scheduled)         0\n",
            "Benefit per order                     0\n",
            "Sales per customer                    0\n",
            "Delivery Status                       0\n",
            "Late_delivery_risk                    0\n",
            "Category Id                           0\n",
            "Category Name                         0\n",
            "Customer City                         0\n",
            "Customer Country                      0\n",
            "Customer Email                        0\n",
            "Customer Fname                        0\n",
            "Customer Id                           0\n",
            "Customer Lname                        8\n",
            "Customer Password                     0\n",
            "Customer Segment                      0\n",
            "Customer State                        0\n",
            "Customer Street                       0\n",
            "Customer Zipcode                      3\n",
            "Department Id                         0\n",
            "Department Name                       0\n",
            "Latitude                              0\n",
            "Longitude                             0\n",
            "Market                                0\n",
            "Order City                            0\n",
            "Order Country                         0\n",
            "Order Customer Id                     0\n",
            "order date (DateOrders)               0\n",
            "Order Id                              0\n",
            "Order Item Cardprod Id                0\n",
            "Order Item Discount                   0\n",
            "Order Item Discount Rate              0\n",
            "Order Item Id                         0\n",
            "Order Item Product Price              0\n",
            "Order Item Profit Ratio               0\n",
            "Order Item Quantity                   0\n",
            "Sales                                 0\n",
            "Order Item Total                      0\n",
            "Order Profit Per Order                0\n",
            "Order Region                          0\n",
            "Order State                           0\n",
            "Order Status                          0\n",
            "Order Zipcode                    155679\n",
            "Product Card Id                       0\n",
            "Product Category Id                   0\n",
            "Product Description              180519\n",
            "Product Image                         0\n",
            "Product Name                          0\n",
            "Product Price                         0\n",
            "Product Status                        0\n",
            "shipping date (DateOrders)            0\n",
            "Shipping Mode                         0\n",
            "Unnamed: 53                      180519\n",
            "Unnamed: 54                      180518\n",
            "dtype: int64\n"
          ]
        }
      ]
    },
    {
      "cell_type": "code",
      "source": [
        "df.head()"
      ],
      "metadata": {
        "colab": {
          "base_uri": "https://localhost:8080/",
          "height": 377
        },
        "id": "-n8CDamYAm5G",
        "outputId": "a995b8ef-f5bd-4552-ff88-bb8a1dea73f3"
      },
      "execution_count": 5,
      "outputs": [
        {
          "output_type": "execute_result",
          "data": {
            "text/plain": [
              "       Type  Days for shipping (real)  Days for shipment (scheduled)  \\\n",
              "0     DEBIT                         3                              4   \n",
              "1  TRANSFER                         5                              4   \n",
              "2      CASH                         4                              4   \n",
              "3     DEBIT                         3                              4   \n",
              "4   PAYMENT                         2                              4   \n",
              "\n",
              "   Benefit per order  Sales per customer   Delivery Status  \\\n",
              "0          91.250000          314.640015  Advance shipping   \n",
              "1        -249.089996          311.359985     Late delivery   \n",
              "2        -247.779999          309.720001  Shipping on time   \n",
              "3          22.860001          304.809998  Advance shipping   \n",
              "4         134.210007          298.250000  Advance shipping   \n",
              "\n",
              "   Late_delivery_risk  Category Id   Category Name Customer City  ...  \\\n",
              "0                   0           73  Sporting Goods        Caguas  ...   \n",
              "1                   1           73  Sporting Goods        Caguas  ...   \n",
              "2                   0           73  Sporting Goods      San Jose  ...   \n",
              "3                   0           73  Sporting Goods   Los Angeles  ...   \n",
              "4                   0           73  Sporting Goods        Caguas  ...   \n",
              "\n",
              "  Product Category Id Product Description  \\\n",
              "0                  73                 NaN   \n",
              "1                  73                 NaN   \n",
              "2                  73                 NaN   \n",
              "3                  73                 NaN   \n",
              "4                  73                 NaN   \n",
              "\n",
              "                                  Product Image  Product Name Product Price  \\\n",
              "0  http://images.acmesports.sports/Smart+watch   Smart watch         327.75   \n",
              "1  http://images.acmesports.sports/Smart+watch   Smart watch         327.75   \n",
              "2  http://images.acmesports.sports/Smart+watch   Smart watch         327.75   \n",
              "3  http://images.acmesports.sports/Smart+watch   Smart watch         327.75   \n",
              "4  http://images.acmesports.sports/Smart+watch   Smart watch         327.75   \n",
              "\n",
              "  Product Status shipping date (DateOrders)   Shipping Mode Unnamed: 53  \\\n",
              "0              0             2/3/2018 22:56  Standard Class         NaN   \n",
              "1              0            1/18/2018 12:27  Standard Class         NaN   \n",
              "2              0            1/17/2018 12:06  Standard Class         NaN   \n",
              "3              0            1/16/2018 11:45  Standard Class         NaN   \n",
              "4              0            1/15/2018 11:24  Standard Class         NaN   \n",
              "\n",
              "   Unnamed: 54  \n",
              "0          NaN  \n",
              "1          NaN  \n",
              "2          NaN  \n",
              "3          NaN  \n",
              "4          NaN  \n",
              "\n",
              "[5 rows x 55 columns]"
            ],
            "text/html": [
              "\n",
              "  <div id=\"df-ccd8bd24-514f-4822-acab-b3729f159cc8\" class=\"colab-df-container\">\n",
              "    <div>\n",
              "<style scoped>\n",
              "    .dataframe tbody tr th:only-of-type {\n",
              "        vertical-align: middle;\n",
              "    }\n",
              "\n",
              "    .dataframe tbody tr th {\n",
              "        vertical-align: top;\n",
              "    }\n",
              "\n",
              "    .dataframe thead th {\n",
              "        text-align: right;\n",
              "    }\n",
              "</style>\n",
              "<table border=\"1\" class=\"dataframe\">\n",
              "  <thead>\n",
              "    <tr style=\"text-align: right;\">\n",
              "      <th></th>\n",
              "      <th>Type</th>\n",
              "      <th>Days for shipping (real)</th>\n",
              "      <th>Days for shipment (scheduled)</th>\n",
              "      <th>Benefit per order</th>\n",
              "      <th>Sales per customer</th>\n",
              "      <th>Delivery Status</th>\n",
              "      <th>Late_delivery_risk</th>\n",
              "      <th>Category Id</th>\n",
              "      <th>Category Name</th>\n",
              "      <th>Customer City</th>\n",
              "      <th>...</th>\n",
              "      <th>Product Category Id</th>\n",
              "      <th>Product Description</th>\n",
              "      <th>Product Image</th>\n",
              "      <th>Product Name</th>\n",
              "      <th>Product Price</th>\n",
              "      <th>Product Status</th>\n",
              "      <th>shipping date (DateOrders)</th>\n",
              "      <th>Shipping Mode</th>\n",
              "      <th>Unnamed: 53</th>\n",
              "      <th>Unnamed: 54</th>\n",
              "    </tr>\n",
              "  </thead>\n",
              "  <tbody>\n",
              "    <tr>\n",
              "      <th>0</th>\n",
              "      <td>DEBIT</td>\n",
              "      <td>3</td>\n",
              "      <td>4</td>\n",
              "      <td>91.250000</td>\n",
              "      <td>314.640015</td>\n",
              "      <td>Advance shipping</td>\n",
              "      <td>0</td>\n",
              "      <td>73</td>\n",
              "      <td>Sporting Goods</td>\n",
              "      <td>Caguas</td>\n",
              "      <td>...</td>\n",
              "      <td>73</td>\n",
              "      <td>NaN</td>\n",
              "      <td>http://images.acmesports.sports/Smart+watch</td>\n",
              "      <td>Smart watch</td>\n",
              "      <td>327.75</td>\n",
              "      <td>0</td>\n",
              "      <td>2/3/2018 22:56</td>\n",
              "      <td>Standard Class</td>\n",
              "      <td>NaN</td>\n",
              "      <td>NaN</td>\n",
              "    </tr>\n",
              "    <tr>\n",
              "      <th>1</th>\n",
              "      <td>TRANSFER</td>\n",
              "      <td>5</td>\n",
              "      <td>4</td>\n",
              "      <td>-249.089996</td>\n",
              "      <td>311.359985</td>\n",
              "      <td>Late delivery</td>\n",
              "      <td>1</td>\n",
              "      <td>73</td>\n",
              "      <td>Sporting Goods</td>\n",
              "      <td>Caguas</td>\n",
              "      <td>...</td>\n",
              "      <td>73</td>\n",
              "      <td>NaN</td>\n",
              "      <td>http://images.acmesports.sports/Smart+watch</td>\n",
              "      <td>Smart watch</td>\n",
              "      <td>327.75</td>\n",
              "      <td>0</td>\n",
              "      <td>1/18/2018 12:27</td>\n",
              "      <td>Standard Class</td>\n",
              "      <td>NaN</td>\n",
              "      <td>NaN</td>\n",
              "    </tr>\n",
              "    <tr>\n",
              "      <th>2</th>\n",
              "      <td>CASH</td>\n",
              "      <td>4</td>\n",
              "      <td>4</td>\n",
              "      <td>-247.779999</td>\n",
              "      <td>309.720001</td>\n",
              "      <td>Shipping on time</td>\n",
              "      <td>0</td>\n",
              "      <td>73</td>\n",
              "      <td>Sporting Goods</td>\n",
              "      <td>San Jose</td>\n",
              "      <td>...</td>\n",
              "      <td>73</td>\n",
              "      <td>NaN</td>\n",
              "      <td>http://images.acmesports.sports/Smart+watch</td>\n",
              "      <td>Smart watch</td>\n",
              "      <td>327.75</td>\n",
              "      <td>0</td>\n",
              "      <td>1/17/2018 12:06</td>\n",
              "      <td>Standard Class</td>\n",
              "      <td>NaN</td>\n",
              "      <td>NaN</td>\n",
              "    </tr>\n",
              "    <tr>\n",
              "      <th>3</th>\n",
              "      <td>DEBIT</td>\n",
              "      <td>3</td>\n",
              "      <td>4</td>\n",
              "      <td>22.860001</td>\n",
              "      <td>304.809998</td>\n",
              "      <td>Advance shipping</td>\n",
              "      <td>0</td>\n",
              "      <td>73</td>\n",
              "      <td>Sporting Goods</td>\n",
              "      <td>Los Angeles</td>\n",
              "      <td>...</td>\n",
              "      <td>73</td>\n",
              "      <td>NaN</td>\n",
              "      <td>http://images.acmesports.sports/Smart+watch</td>\n",
              "      <td>Smart watch</td>\n",
              "      <td>327.75</td>\n",
              "      <td>0</td>\n",
              "      <td>1/16/2018 11:45</td>\n",
              "      <td>Standard Class</td>\n",
              "      <td>NaN</td>\n",
              "      <td>NaN</td>\n",
              "    </tr>\n",
              "    <tr>\n",
              "      <th>4</th>\n",
              "      <td>PAYMENT</td>\n",
              "      <td>2</td>\n",
              "      <td>4</td>\n",
              "      <td>134.210007</td>\n",
              "      <td>298.250000</td>\n",
              "      <td>Advance shipping</td>\n",
              "      <td>0</td>\n",
              "      <td>73</td>\n",
              "      <td>Sporting Goods</td>\n",
              "      <td>Caguas</td>\n",
              "      <td>...</td>\n",
              "      <td>73</td>\n",
              "      <td>NaN</td>\n",
              "      <td>http://images.acmesports.sports/Smart+watch</td>\n",
              "      <td>Smart watch</td>\n",
              "      <td>327.75</td>\n",
              "      <td>0</td>\n",
              "      <td>1/15/2018 11:24</td>\n",
              "      <td>Standard Class</td>\n",
              "      <td>NaN</td>\n",
              "      <td>NaN</td>\n",
              "    </tr>\n",
              "  </tbody>\n",
              "</table>\n",
              "<p>5 rows × 55 columns</p>\n",
              "</div>\n",
              "    <div class=\"colab-df-buttons\">\n",
              "\n",
              "  <div class=\"colab-df-container\">\n",
              "    <button class=\"colab-df-convert\" onclick=\"convertToInteractive('df-ccd8bd24-514f-4822-acab-b3729f159cc8')\"\n",
              "            title=\"Convert this dataframe to an interactive table.\"\n",
              "            style=\"display:none;\">\n",
              "\n",
              "  <svg xmlns=\"http://www.w3.org/2000/svg\" height=\"24px\" viewBox=\"0 -960 960 960\">\n",
              "    <path d=\"M120-120v-720h720v720H120Zm60-500h600v-160H180v160Zm220 220h160v-160H400v160Zm0 220h160v-160H400v160ZM180-400h160v-160H180v160Zm440 0h160v-160H620v160ZM180-180h160v-160H180v160Zm440 0h160v-160H620v160Z\"/>\n",
              "  </svg>\n",
              "    </button>\n",
              "\n",
              "  <style>\n",
              "    .colab-df-container {\n",
              "      display:flex;\n",
              "      gap: 12px;\n",
              "    }\n",
              "\n",
              "    .colab-df-convert {\n",
              "      background-color: #E8F0FE;\n",
              "      border: none;\n",
              "      border-radius: 50%;\n",
              "      cursor: pointer;\n",
              "      display: none;\n",
              "      fill: #1967D2;\n",
              "      height: 32px;\n",
              "      padding: 0 0 0 0;\n",
              "      width: 32px;\n",
              "    }\n",
              "\n",
              "    .colab-df-convert:hover {\n",
              "      background-color: #E2EBFA;\n",
              "      box-shadow: 0px 1px 2px rgba(60, 64, 67, 0.3), 0px 1px 3px 1px rgba(60, 64, 67, 0.15);\n",
              "      fill: #174EA6;\n",
              "    }\n",
              "\n",
              "    .colab-df-buttons div {\n",
              "      margin-bottom: 4px;\n",
              "    }\n",
              "\n",
              "    [theme=dark] .colab-df-convert {\n",
              "      background-color: #3B4455;\n",
              "      fill: #D2E3FC;\n",
              "    }\n",
              "\n",
              "    [theme=dark] .colab-df-convert:hover {\n",
              "      background-color: #434B5C;\n",
              "      box-shadow: 0px 1px 3px 1px rgba(0, 0, 0, 0.15);\n",
              "      filter: drop-shadow(0px 1px 2px rgba(0, 0, 0, 0.3));\n",
              "      fill: #FFFFFF;\n",
              "    }\n",
              "  </style>\n",
              "\n",
              "    <script>\n",
              "      const buttonEl =\n",
              "        document.querySelector('#df-ccd8bd24-514f-4822-acab-b3729f159cc8 button.colab-df-convert');\n",
              "      buttonEl.style.display =\n",
              "        google.colab.kernel.accessAllowed ? 'block' : 'none';\n",
              "\n",
              "      async function convertToInteractive(key) {\n",
              "        const element = document.querySelector('#df-ccd8bd24-514f-4822-acab-b3729f159cc8');\n",
              "        const dataTable =\n",
              "          await google.colab.kernel.invokeFunction('convertToInteractive',\n",
              "                                                    [key], {});\n",
              "        if (!dataTable) return;\n",
              "\n",
              "        const docLinkHtml = 'Like what you see? Visit the ' +\n",
              "          '<a target=\"_blank\" href=https://colab.research.google.com/notebooks/data_table.ipynb>data table notebook</a>'\n",
              "          + ' to learn more about interactive tables.';\n",
              "        element.innerHTML = '';\n",
              "        dataTable['output_type'] = 'display_data';\n",
              "        await google.colab.output.renderOutput(dataTable, element);\n",
              "        const docLink = document.createElement('div');\n",
              "        docLink.innerHTML = docLinkHtml;\n",
              "        element.appendChild(docLink);\n",
              "      }\n",
              "    </script>\n",
              "  </div>\n",
              "\n",
              "\n",
              "<div id=\"df-6ad25e07-9fad-48cc-bbe3-3d017f30bddd\">\n",
              "  <button class=\"colab-df-quickchart\" onclick=\"quickchart('df-6ad25e07-9fad-48cc-bbe3-3d017f30bddd')\"\n",
              "            title=\"Suggest charts\"\n",
              "            style=\"display:none;\">\n",
              "\n",
              "<svg xmlns=\"http://www.w3.org/2000/svg\" height=\"24px\"viewBox=\"0 0 24 24\"\n",
              "     width=\"24px\">\n",
              "    <g>\n",
              "        <path d=\"M19 3H5c-1.1 0-2 .9-2 2v14c0 1.1.9 2 2 2h14c1.1 0 2-.9 2-2V5c0-1.1-.9-2-2-2zM9 17H7v-7h2v7zm4 0h-2V7h2v10zm4 0h-2v-4h2v4z\"/>\n",
              "    </g>\n",
              "</svg>\n",
              "  </button>\n",
              "\n",
              "<style>\n",
              "  .colab-df-quickchart {\n",
              "      --bg-color: #E8F0FE;\n",
              "      --fill-color: #1967D2;\n",
              "      --hover-bg-color: #E2EBFA;\n",
              "      --hover-fill-color: #174EA6;\n",
              "      --disabled-fill-color: #AAA;\n",
              "      --disabled-bg-color: #DDD;\n",
              "  }\n",
              "\n",
              "  [theme=dark] .colab-df-quickchart {\n",
              "      --bg-color: #3B4455;\n",
              "      --fill-color: #D2E3FC;\n",
              "      --hover-bg-color: #434B5C;\n",
              "      --hover-fill-color: #FFFFFF;\n",
              "      --disabled-bg-color: #3B4455;\n",
              "      --disabled-fill-color: #666;\n",
              "  }\n",
              "\n",
              "  .colab-df-quickchart {\n",
              "    background-color: var(--bg-color);\n",
              "    border: none;\n",
              "    border-radius: 50%;\n",
              "    cursor: pointer;\n",
              "    display: none;\n",
              "    fill: var(--fill-color);\n",
              "    height: 32px;\n",
              "    padding: 0;\n",
              "    width: 32px;\n",
              "  }\n",
              "\n",
              "  .colab-df-quickchart:hover {\n",
              "    background-color: var(--hover-bg-color);\n",
              "    box-shadow: 0 1px 2px rgba(60, 64, 67, 0.3), 0 1px 3px 1px rgba(60, 64, 67, 0.15);\n",
              "    fill: var(--button-hover-fill-color);\n",
              "  }\n",
              "\n",
              "  .colab-df-quickchart-complete:disabled,\n",
              "  .colab-df-quickchart-complete:disabled:hover {\n",
              "    background-color: var(--disabled-bg-color);\n",
              "    fill: var(--disabled-fill-color);\n",
              "    box-shadow: none;\n",
              "  }\n",
              "\n",
              "  .colab-df-spinner {\n",
              "    border: 2px solid var(--fill-color);\n",
              "    border-color: transparent;\n",
              "    border-bottom-color: var(--fill-color);\n",
              "    animation:\n",
              "      spin 1s steps(1) infinite;\n",
              "  }\n",
              "\n",
              "  @keyframes spin {\n",
              "    0% {\n",
              "      border-color: transparent;\n",
              "      border-bottom-color: var(--fill-color);\n",
              "      border-left-color: var(--fill-color);\n",
              "    }\n",
              "    20% {\n",
              "      border-color: transparent;\n",
              "      border-left-color: var(--fill-color);\n",
              "      border-top-color: var(--fill-color);\n",
              "    }\n",
              "    30% {\n",
              "      border-color: transparent;\n",
              "      border-left-color: var(--fill-color);\n",
              "      border-top-color: var(--fill-color);\n",
              "      border-right-color: var(--fill-color);\n",
              "    }\n",
              "    40% {\n",
              "      border-color: transparent;\n",
              "      border-right-color: var(--fill-color);\n",
              "      border-top-color: var(--fill-color);\n",
              "    }\n",
              "    60% {\n",
              "      border-color: transparent;\n",
              "      border-right-color: var(--fill-color);\n",
              "    }\n",
              "    80% {\n",
              "      border-color: transparent;\n",
              "      border-right-color: var(--fill-color);\n",
              "      border-bottom-color: var(--fill-color);\n",
              "    }\n",
              "    90% {\n",
              "      border-color: transparent;\n",
              "      border-bottom-color: var(--fill-color);\n",
              "    }\n",
              "  }\n",
              "</style>\n",
              "\n",
              "  <script>\n",
              "    async function quickchart(key) {\n",
              "      const quickchartButtonEl =\n",
              "        document.querySelector('#' + key + ' button');\n",
              "      quickchartButtonEl.disabled = true;  // To prevent multiple clicks.\n",
              "      quickchartButtonEl.classList.add('colab-df-spinner');\n",
              "      try {\n",
              "        const charts = await google.colab.kernel.invokeFunction(\n",
              "            'suggestCharts', [key], {});\n",
              "      } catch (error) {\n",
              "        console.error('Error during call to suggestCharts:', error);\n",
              "      }\n",
              "      quickchartButtonEl.classList.remove('colab-df-spinner');\n",
              "      quickchartButtonEl.classList.add('colab-df-quickchart-complete');\n",
              "    }\n",
              "    (() => {\n",
              "      let quickchartButtonEl =\n",
              "        document.querySelector('#df-6ad25e07-9fad-48cc-bbe3-3d017f30bddd button');\n",
              "      quickchartButtonEl.style.display =\n",
              "        google.colab.kernel.accessAllowed ? 'block' : 'none';\n",
              "    })();\n",
              "  </script>\n",
              "</div>\n",
              "\n",
              "    </div>\n",
              "  </div>\n"
            ],
            "application/vnd.google.colaboratory.intrinsic+json": {
              "type": "dataframe",
              "variable_name": "df"
            }
          },
          "metadata": {},
          "execution_count": 5
        }
      ]
    },
    {
      "cell_type": "code",
      "source": [
        "df.drop(columns=['Product Description'], inplace=True)\n",
        "df.drop(columns=['Order Zipcode'], inplace=True)\n",
        "df.drop(columns=['Unnamed: 53'], inplace=True)\n",
        "df.drop(columns=['Unnamed: 54'], inplace=True)\n"
      ],
      "metadata": {
        "id": "IzJkLztVqI0w"
      },
      "execution_count": 6,
      "outputs": []
    },
    {
      "cell_type": "code",
      "source": [
        "df.info()"
      ],
      "metadata": {
        "colab": {
          "base_uri": "https://localhost:8080/"
        },
        "id": "1HdrWo7Pr5jc",
        "outputId": "468655ae-7dc9-4cdb-ff1a-0ac1009c697f"
      },
      "execution_count": 7,
      "outputs": [
        {
          "output_type": "stream",
          "name": "stdout",
          "text": [
            "<class 'pandas.core.frame.DataFrame'>\n",
            "RangeIndex: 180519 entries, 0 to 180518\n",
            "Data columns (total 51 columns):\n",
            " #   Column                         Non-Null Count   Dtype  \n",
            "---  ------                         --------------   -----  \n",
            " 0   Type                           180519 non-null  object \n",
            " 1   Days for shipping (real)       180519 non-null  int64  \n",
            " 2   Days for shipment (scheduled)  180519 non-null  int64  \n",
            " 3   Benefit per order              180519 non-null  float64\n",
            " 4   Sales per customer             180519 non-null  float64\n",
            " 5   Delivery Status                180519 non-null  object \n",
            " 6   Late_delivery_risk             180519 non-null  int64  \n",
            " 7   Category Id                    180519 non-null  int64  \n",
            " 8   Category Name                  180519 non-null  object \n",
            " 9   Customer City                  180519 non-null  object \n",
            " 10  Customer Country               180519 non-null  object \n",
            " 11  Customer Email                 180519 non-null  object \n",
            " 12  Customer Fname                 180519 non-null  object \n",
            " 13  Customer Id                    180519 non-null  int64  \n",
            " 14  Customer Lname                 180511 non-null  object \n",
            " 15  Customer Password              180519 non-null  object \n",
            " 16  Customer Segment               180519 non-null  object \n",
            " 17  Customer State                 180519 non-null  object \n",
            " 18  Customer Street                180519 non-null  object \n",
            " 19  Customer Zipcode               180516 non-null  float64\n",
            " 20  Department Id                  180519 non-null  int64  \n",
            " 21  Department Name                180519 non-null  object \n",
            " 22  Latitude                       180519 non-null  float64\n",
            " 23  Longitude                      180519 non-null  float64\n",
            " 24  Market                         180519 non-null  object \n",
            " 25  Order City                     180519 non-null  object \n",
            " 26  Order Country                  180519 non-null  object \n",
            " 27  Order Customer Id              180519 non-null  int64  \n",
            " 28  order date (DateOrders)        180519 non-null  object \n",
            " 29  Order Id                       180519 non-null  int64  \n",
            " 30  Order Item Cardprod Id         180519 non-null  int64  \n",
            " 31  Order Item Discount            180519 non-null  float64\n",
            " 32  Order Item Discount Rate       180519 non-null  float64\n",
            " 33  Order Item Id                  180519 non-null  int64  \n",
            " 34  Order Item Product Price       180519 non-null  float64\n",
            " 35  Order Item Profit Ratio        180519 non-null  float64\n",
            " 36  Order Item Quantity            180519 non-null  int64  \n",
            " 37  Sales                          180519 non-null  float64\n",
            " 38  Order Item Total               180519 non-null  float64\n",
            " 39  Order Profit Per Order         180519 non-null  float64\n",
            " 40  Order Region                   180519 non-null  object \n",
            " 41  Order State                    180519 non-null  object \n",
            " 42  Order Status                   180519 non-null  object \n",
            " 43  Product Card Id                180519 non-null  int64  \n",
            " 44  Product Category Id            180519 non-null  int64  \n",
            " 45  Product Image                  180519 non-null  object \n",
            " 46  Product Name                   180519 non-null  object \n",
            " 47  Product Price                  180519 non-null  float64\n",
            " 48  Product Status                 180519 non-null  int64  \n",
            " 49  shipping date (DateOrders)     180519 non-null  object \n",
            " 50  Shipping Mode                  180519 non-null  object \n",
            "dtypes: float64(13), int64(14), object(24)\n",
            "memory usage: 70.2+ MB\n"
          ]
        }
      ]
    },
    {
      "cell_type": "code",
      "source": [
        "df.dropna(subset=['Customer Lname'], inplace=True)\n",
        "df.dropna(subset=['Customer Zipcode'], inplace=True)"
      ],
      "metadata": {
        "id": "uViyMs4ktI4I"
      },
      "execution_count": 8,
      "outputs": []
    },
    {
      "cell_type": "code",
      "source": [
        "print(df.isna().sum())"
      ],
      "metadata": {
        "colab": {
          "base_uri": "https://localhost:8080/"
        },
        "id": "r1HYTv2ItpwL",
        "outputId": "0c1fa73f-ca49-45d7-ae22-5e203c2490d1"
      },
      "execution_count": 9,
      "outputs": [
        {
          "output_type": "stream",
          "name": "stdout",
          "text": [
            "Type                             0\n",
            "Days for shipping (real)         0\n",
            "Days for shipment (scheduled)    0\n",
            "Benefit per order                0\n",
            "Sales per customer               0\n",
            "Delivery Status                  0\n",
            "Late_delivery_risk               0\n",
            "Category Id                      0\n",
            "Category Name                    0\n",
            "Customer City                    0\n",
            "Customer Country                 0\n",
            "Customer Email                   0\n",
            "Customer Fname                   0\n",
            "Customer Id                      0\n",
            "Customer Lname                   0\n",
            "Customer Password                0\n",
            "Customer Segment                 0\n",
            "Customer State                   0\n",
            "Customer Street                  0\n",
            "Customer Zipcode                 0\n",
            "Department Id                    0\n",
            "Department Name                  0\n",
            "Latitude                         0\n",
            "Longitude                        0\n",
            "Market                           0\n",
            "Order City                       0\n",
            "Order Country                    0\n",
            "Order Customer Id                0\n",
            "order date (DateOrders)          0\n",
            "Order Id                         0\n",
            "Order Item Cardprod Id           0\n",
            "Order Item Discount              0\n",
            "Order Item Discount Rate         0\n",
            "Order Item Id                    0\n",
            "Order Item Product Price         0\n",
            "Order Item Profit Ratio          0\n",
            "Order Item Quantity              0\n",
            "Sales                            0\n",
            "Order Item Total                 0\n",
            "Order Profit Per Order           0\n",
            "Order Region                     0\n",
            "Order State                      0\n",
            "Order Status                     0\n",
            "Product Card Id                  0\n",
            "Product Category Id              0\n",
            "Product Image                    0\n",
            "Product Name                     0\n",
            "Product Price                    0\n",
            "Product Status                   0\n",
            "shipping date (DateOrders)       0\n",
            "Shipping Mode                    0\n",
            "dtype: int64\n"
          ]
        }
      ]
    },
    {
      "cell_type": "code",
      "source": [
        "df.dropna(subset=['Shipping Mode'], inplace=True)"
      ],
      "metadata": {
        "id": "Os9QXuVqt1FY"
      },
      "execution_count": 10,
      "outputs": []
    },
    {
      "cell_type": "code",
      "source": [
        "df.drop(columns=['Benefit per order','Sales per customer','Order Id','Order Item Cardprod Id','Order Item Discount','Order Item Discount Rate','Order Item Id','Order Item Product Price','Order Item Profit Ratio','Order Item Quantity','Sales','Order Item Total','Order Profit Per Order','Product Price','Product Status'],inplace=True)"
      ],
      "metadata": {
        "id": "qIyzlCzpCard"
      },
      "execution_count": 11,
      "outputs": []
    },
    {
      "cell_type": "code",
      "source": [
        "df.drop(columns=['Category Id','Category Name','Customer City','Customer Country','Customer Email','Customer Fname','Customer Id','Customer Lname','Customer Password','Customer Segment','Customer State','Customer State','Customer Street','Customer Zipcode','Department Id','Department Name','Latitude','Longitude','Market','Order City','Order Country','Order Customer Id','Order Region','Order State','Product Card Id','Product Category Id','Product Image','Product Name'],inplace=True)"
      ],
      "metadata": {
        "id": "2M8c2Z3Kz7xb"
      },
      "execution_count": 12,
      "outputs": []
    },
    {
      "cell_type": "code",
      "source": [
        "df[\"order date (DateOrders)\"]=pd.to_datetime(df[\"order date (DateOrders)\"])\n",
        "df[\"shipping date (DateOrders)\"]=pd.to_datetime(df[\"shipping date (DateOrders)\"])"
      ],
      "metadata": {
        "id": "0mOFoP6L6DXn"
      },
      "execution_count": 13,
      "outputs": []
    },
    {
      "cell_type": "code",
      "source": [
        "df.info()"
      ],
      "metadata": {
        "colab": {
          "base_uri": "https://localhost:8080/"
        },
        "id": "k33eCA4yTrp7",
        "outputId": "32077037-d2d7-4c25-952a-a7bf71fed6f0"
      },
      "execution_count": 14,
      "outputs": [
        {
          "output_type": "stream",
          "name": "stdout",
          "text": [
            "<class 'pandas.core.frame.DataFrame'>\n",
            "Index: 180508 entries, 0 to 180518\n",
            "Data columns (total 9 columns):\n",
            " #   Column                         Non-Null Count   Dtype         \n",
            "---  ------                         --------------   -----         \n",
            " 0   Type                           180508 non-null  object        \n",
            " 1   Days for shipping (real)       180508 non-null  int64         \n",
            " 2   Days for shipment (scheduled)  180508 non-null  int64         \n",
            " 3   Delivery Status                180508 non-null  object        \n",
            " 4   Late_delivery_risk             180508 non-null  int64         \n",
            " 5   order date (DateOrders)        180508 non-null  datetime64[ns]\n",
            " 6   Order Status                   180508 non-null  object        \n",
            " 7   shipping date (DateOrders)     180508 non-null  datetime64[ns]\n",
            " 8   Shipping Mode                  180508 non-null  object        \n",
            "dtypes: datetime64[ns](2), int64(3), object(4)\n",
            "memory usage: 13.8+ MB\n"
          ]
        }
      ]
    },
    {
      "cell_type": "code",
      "source": [
        "#Label Encoding done over here for two columns, AI generated after fixing errors in my code\n",
        "import pandas as pd\n",
        "from sklearn.preprocessing import LabelEncoder # Import LabelEncoder\n",
        "\n",
        "label_encoders = {}\n",
        "categorical_columns = [\"Delivery Status\", \"Shipping Mode\"] # Removed the columns that were dropped\n",
        "\n",
        "for col in categorical_columns:\n",
        "  le = LabelEncoder()\n",
        "  # Access the column using square brackets [] instead of parentheses ()\n",
        "  le.fit_transform(df[col])\n",
        "  label_encoders[col] = le"
      ],
      "metadata": {
        "id": "k4SXTIq-chNC"
      },
      "execution_count": 15,
      "outputs": []
    },
    {
      "cell_type": "code",
      "source": [
        "df[\"Shipping delay\"]=df[\"Days for shipping (real)\"]-df[\"Days for shipment (scheduled)\"]"
      ],
      "metadata": {
        "id": "bZ7MkYRKczxI"
      },
      "execution_count": 16,
      "outputs": []
    },
    {
      "cell_type": "code",
      "source": [
        "y=df[\"Late_delivery_risk\"]"
      ],
      "metadata": {
        "id": "j8xtg5OzckM6"
      },
      "execution_count": 17,
      "outputs": []
    },
    {
      "cell_type": "code",
      "source": [
        "import matplotlib.pyplot as plt\n",
        "import seaborn as sns\n",
        "\n",
        "sns.countplot(x=y)\n",
        "plt.title(\"Late Delivery Risk\")\n",
        "plt.show()\n",
        "\n",
        "print(y.value_counts(normalize=True))"
      ],
      "metadata": {
        "colab": {
          "base_uri": "https://localhost:8080/",
          "height": 544
        },
        "id": "OtBlFFVFT01A",
        "outputId": "7b925e53-a3b4-49f4-bf10-a687622160ad"
      },
      "execution_count": 18,
      "outputs": [
        {
          "output_type": "display_data",
          "data": {
            "text/plain": [
              "<Figure size 640x480 with 1 Axes>"
            ],
            "image/png": "[encoded data removed]"
          },
          "metadata": {}
        },
        {
          "output_type": "stream",
          "name": "stdout",
          "text": [
            "Late_delivery_risk\n",
            "1    0.548297\n",
            "0    0.451703\n",
            "Name: proportion, dtype: float64\n"
          ]
        }
      ]
    },
    {
      "cell_type": "code",
      "source": [
        "\n",
        "# prompt: i want to balance the late delivery risk column by undersampling, generate code for that, and the downsampled column should be replaced in the original dataframe and the records that are downsampled should also go away\n",
        "\n",
        "from sklearn.utils import resample\n",
        "\n",
        "# Separate majority and minority classes\n",
        "df_minority = df[df['Late_delivery_risk'] == 0]\n",
        "df_majority = df[df['Late_delivery_risk'] == 1]\n",
        "\n",
        "# Downsample majority class\n",
        "df_majority_downsampled = resample(df_majority,\n",
        "                                 replace=False,    # sample without replacement\n",
        "                                 n_samples=len(df_minority),     # to match minority class\n",
        "                                 random_state=123) # reproducible results\n",
        "\n",
        "# Combine minority class with downsampled majority class\n",
        "df_downsampled = pd.concat([df_majority_downsampled, df_minority])\n",
        "\n",
        "# Update the original dataframe with the downsampled data\n",
        "df = df_downsampled\n",
        "\n",
        "# Display class counts after downsampling\n",
        "print(df['Late_delivery_risk'].value_counts())\n"
      ],
      "metadata": {
        "colab": {
          "base_uri": "https://localhost:8080/"
        },
        "id": "JfRjML14274D",
        "outputId": "258f9fda-6402-465e-a53d-eaee0c7d6bac"
      },
      "execution_count": 19,
      "outputs": [
        {
          "output_type": "stream",
          "name": "stdout",
          "text": [
            "Late_delivery_risk\n",
            "1    81536\n",
            "0    81536\n",
            "Name: count, dtype: int64\n"
          ]
        }
      ]
    },
    {
      "cell_type": "code",
      "source": [
        "import matplotlib.pyplot as plt\n",
        "import seaborn as sns\n",
        "\n",
        "y=df[\"Late_delivery_risk\"]\n",
        "\n",
        "sns.countplot(x=y)\n",
        "plt.title(\"Late Delivery Risk\")\n",
        "plt.show()\n",
        "\n",
        "print(y.value_counts(normalize=True))"
      ],
      "metadata": {
        "colab": {
          "base_uri": "https://localhost:8080/",
          "height": 544
        },
        "id": "5Q1l_yk45Ztd",
        "outputId": "e6517755-2de0-4767-d3e3-b63982195033"
      },
      "execution_count": 20,
      "outputs": [
        {
          "output_type": "display_data",
          "data": {
            "text/plain": [
              "<Figure size 640x480 with 1 Axes>"
            ],
            "image/png": "[encoded data removed]"
          },
          "metadata": {}
        },
        {
          "output_type": "stream",
          "name": "stdout",
          "text": [
            "Late_delivery_risk\n",
            "1    0.5\n",
            "0    0.5\n",
            "Name: proportion, dtype: float64\n"
          ]
        }
      ]
    },
    {
      "cell_type": "code",
      "source": [
        "X = df.drop(columns=[\"Late_delivery_risk\"])\n"
      ],
      "metadata": {
        "id": "tdyvx7heU_N2"
      },
      "execution_count": 21,
      "outputs": []
    },
    {
      "cell_type": "code",
      "source": [
        "import numpy as np\n",
        "import pandas as pd\n",
        "\n",
        "# Assuming X is your DataFrame\n",
        "# Select only numeric columns for correlation calculation\n",
        "numeric_cols = X.select_dtypes(include=np.number).columns\n",
        "corr_matrix = X[numeric_cols].corr()\n",
        "\n",
        "# Plot heatmap\n",
        "plt.figure(figsize=(12, 8))\n",
        "sns.heatmap(corr_matrix, annot=False, cmap=\"coolwarm\", linewidths=0.5)\n",
        "plt.title(\"Feature Correlation Matrix\")\n",
        "plt.show()"
      ],
      "metadata": {
        "colab": {
          "base_uri": "https://localhost:8080/",
          "height": 699
        },
        "id": "GM1dafkTVYek",
        "outputId": "9925fe71-56dd-41db-a38b-ed85c388aa8c"
      },
      "execution_count": 22,
      "outputs": [
        {
          "output_type": "display_data",
          "data": {
            "text/plain": [
              "<Figure size 1200x800 with 2 Axes>"
            ],
            "image/png": "[encoded data removed]"
          },
          "metadata": {}
        }
      ]
    },
    {
      "cell_type": "code",
      "source": [
        "import pandas as pd\n",
        "from sklearn.preprocessing import LabelEncoder\n",
        "from sklearn.linear_model import LogisticRegression\n",
        "from sklearn.model_selection import train_test_split\n",
        "from sklearn.metrics import accuracy_score, classification_report, confusion_matrix, roc_auc_score\n",
        "\n",
        "# Assuming X and y are already defined as in your code\n",
        "\n",
        "# Create a LabelEncoder for each categorical column and convert datetime columns to numerical\n",
        "label_encoders = {}\n",
        "categorical_columns = X.select_dtypes(include=['object']).columns  # Select all object type columns\n",
        "datetime_columns = X.select_dtypes(include=['datetime64[ns]']).columns # Select all datetime columns\n",
        "\n",
        "for col in categorical_columns:\n",
        "    le = LabelEncoder()\n",
        "    X[col] = le.fit_transform(X[col])  # Transform the column in place\n",
        "    label_encoders[col] = le\n",
        "\n",
        "# Convert datetime columns to numerical using toordinal()\n",
        "for col in datetime_columns:\n",
        "    X[col] = X[col].apply(lambda x: x.toordinal() if pd.notna(x) else x) # Handle NaT values safely\n",
        "\n",
        "\n",
        "# Splitting the dataset\n",
        "X_train, X_test, y_train, y_test = train_test_split(X, y, test_size=0.2, random_state=42)\n",
        "\n",
        "# Train model\n",
        "lr = LogisticRegression()\n",
        "lr.fit(X_train, y_train)\n",
        "\n",
        "# Predictions\n",
        "y_pred_lr = lr.predict(X_test)\n",
        "\n",
        "# Evaluation\n",
        "print(\"Logistic Regression Performance:\")\n",
        "print(\"Accuracy:\", accuracy_score(y_test, y_pred_lr))\n",
        "print(\"Confusion Matrix:\\n\", confusion_matrix(y_test, y_pred_lr))\n",
        "print(\"Classification Report:\\n\", classification_report(y_test, y_pred_lr))\n",
        "print(\"ROC-AUC Score:\", roc_auc_score(y_test, lr.predict_proba(X_test)[:, 1]))"
      ],
      "metadata": {
        "colab": {
          "base_uri": "https://localhost:8080/"
        },
        "id": "SWFazOZ70oA_",
        "outputId": "c42ba884-01ef-4a2c-941e-d90cdd07d9b4"
      },
      "execution_count": 23,
      "outputs": [
        {
          "output_type": "stream",
          "name": "stdout",
          "text": [
            "Logistic Regression Performance:\n",
            "Accuracy: 0.980039858960601\n",
            "Confusion Matrix:\n",
            " [[15794   651]\n",
            " [    0 16170]]\n",
            "Classification Report:\n",
            "               precision    recall  f1-score   support\n",
            "\n",
            "           0       1.00      0.96      0.98     16445\n",
            "           1       0.96      1.00      0.98     16170\n",
            "\n",
            "    accuracy                           0.98     32615\n",
            "   macro avg       0.98      0.98      0.98     32615\n",
            "weighted avg       0.98      0.98      0.98     32615\n",
            "\n",
            "ROC-AUC Score: 0.9898469759113464\n"
          ]
        },
        {
          "output_type": "stream",
          "name": "stderr",
          "text": [
            "/usr/local/lib/python3.11/dist-packages/sklearn/linear_model/_logistic.py:465: ConvergenceWarning: lbfgs failed to converge (status=1):\n",
            "STOP: TOTAL NO. of ITERATIONS REACHED LIMIT.\n",
            "\n",
            "Increase the number of iterations (max_iter) or scale the data as shown in:\n",
            "    https://scikit-learn.org/stable/modules/preprocessing.html\n",
            "Please also refer to the documentation for alternative solver options:\n",
            "    https://scikit-learn.org/stable/modules/linear_model.html#logistic-regression\n",
            "  n_iter_i = _check_optimize_result(\n"
          ]
        }
      ]
    },
    {
      "cell_type": "code",
      "source": [
        "from sklearn.tree import DecisionTreeClassifier\n",
        "\n",
        "# Train model\n",
        "dt = DecisionTreeClassifier()\n",
        "dt.fit(X_train, y_train)\n",
        "\n",
        "# Predictions\n",
        "y_pred_dt = dt.predict(X_test)\n",
        "\n",
        "# Evaluation\n",
        "print(\"Decision Tree Performance:\")\n",
        "print(\"Accuracy:\", accuracy_score(y_test, y_pred_dt))\n",
        "print(\"Confusion Matrix:\\n\", confusion_matrix(y_test, y_pred_dt))\n",
        "print(\"Classification Report:\\n\", classification_report(y_test, y_pred_dt))\n",
        "print(\"ROC-AUC Score:\", roc_auc_score(y_test, dt.predict_proba(X_test)[:, 1]))\n"
      ],
      "metadata": {
        "colab": {
          "base_uri": "https://localhost:8080/"
        },
        "id": "0dvPNIsPb-1x",
        "outputId": "8dfde2a5-0ad1-4e30-82a5-1489a754b4e8"
      },
      "execution_count": 24,
      "outputs": [
        {
          "output_type": "stream",
          "name": "stdout",
          "text": [
            "Decision Tree Performance:\n",
            "Accuracy: 1.0\n",
            "Confusion Matrix:\n",
            " [[16445     0]\n",
            " [    0 16170]]\n",
            "Classification Report:\n",
            "               precision    recall  f1-score   support\n",
            "\n",
            "           0       1.00      1.00      1.00     16445\n",
            "           1       1.00      1.00      1.00     16170\n",
            "\n",
            "    accuracy                           1.00     32615\n",
            "   macro avg       1.00      1.00      1.00     32615\n",
            "weighted avg       1.00      1.00      1.00     32615\n",
            "\n",
            "ROC-AUC Score: 1.0\n"
          ]
        }
      ]
    },
    {
      "cell_type": "code",
      "source": [
        "from sklearn.ensemble import RandomForestClassifier\n",
        "\n",
        "# Train model\n",
        "rf = RandomForestClassifier(n_estimators=1, random_state=42)\n",
        "rf.fit(X_train, y_train)\n",
        "\n",
        "# Predictions\n",
        "y_pred_rf = rf.predict(X_test)\n",
        "\n",
        "# Evaluation\n",
        "print(\"Random Forest Performance:\")\n",
        "print(\"Accuracy:\", accuracy_score(y_test, y_pred_rf))\n",
        "print(\"Confusion Matrix:\\n\", confusion_matrix(y_test, y_pred_rf))\n",
        "print(\"Classification Report:\\n\", classification_report(y_test, y_pred_rf))\n",
        "print(\"ROC-AUC Score:\", roc_auc_score(y_test, rf.predict_proba(X_test)[:, 1]))\n"
      ],
      "metadata": {
        "colab": {
          "base_uri": "https://localhost:8080/"
        },
        "id": "DUNJVcsMcOFI",
        "outputId": "84daeae9-80f4-442f-9d05-b5a04387eece"
      },
      "execution_count": 25,
      "outputs": [
        {
          "output_type": "stream",
          "name": "stdout",
          "text": [
            "Random Forest Performance:\n",
            "Accuracy: 1.0\n",
            "Confusion Matrix:\n",
            " [[16445     0]\n",
            " [    0 16170]]\n",
            "Classification Report:\n",
            "               precision    recall  f1-score   support\n",
            "\n",
            "           0       1.00      1.00      1.00     16445\n",
            "           1       1.00      1.00      1.00     16170\n",
            "\n",
            "    accuracy                           1.00     32615\n",
            "   macro avg       1.00      1.00      1.00     32615\n",
            "weighted avg       1.00      1.00      1.00     32615\n",
            "\n",
            "ROC-AUC Score: 1.0\n"
          ]
        }
      ]
    },
    {
      "cell_type": "code",
      "source": [
        "from sklearn.model_selection import GridSearchCV\n",
        "\n",
        "# Define hyperparameter grid\n",
        "param_grid = {\n",
        "    'n_estimators': [50, 100, 200],\n",
        "    'max_depth': [10, 20, None],\n",
        "    'min_samples_split': [2, 5, 10]\n",
        "}\n",
        "\n",
        "# Grid Search\n",
        "grid_search = GridSearchCV(RandomForestClassifier(random_state=42), param_grid, cv=3, scoring='accuracy', n_jobs=-1)\n",
        "grid_search.fit(X_train, y_train)\n",
        "\n",
        "# Best parameters & evaluation\n",
        "print(\"Best Parameters:\", grid_search.best_params_)\n",
        "best_rf = grid_search.best_estimator_\n",
        "y_pred_best_rf = best_rf.predict(X_test)\n",
        "\n",
        "# Evaluate the tuned model\n",
        "print(\"Tuned Random Forest Performance:\")\n",
        "print(\"Accuracy:\", accuracy_score(y_test, y_pred_best_rf))\n",
        "print(\"Confusion Matrix:\\n\", confusion_matrix(y_test, y_pred_best_rf))\n",
        "print(\"Classification Report:\\n\", classification_report(y_test, y_pred_best_rf))\n",
        "print(\"ROC-AUC Score:\", roc_auc_score(y_test, best_rf.predict_proba(X_test)[:, 1]))\n"
      ],
      "metadata": {
        "colab": {
          "base_uri": "https://localhost:8080/"
        },
        "id": "4snxqdkbfdWB",
        "outputId": "ac7ef34d-3b7a-4fcb-a85d-7a96538f761e"
      },
      "execution_count": 26,
      "outputs": [
        {
          "output_type": "stream",
          "name": "stdout",
          "text": [
            "Best Parameters: {'max_depth': 10, 'min_samples_split': 2, 'n_estimators': 50}\n",
            "Tuned Random Forest Performance:\n",
            "Accuracy: 1.0\n",
            "Confusion Matrix:\n",
            " [[16445     0]\n",
            " [    0 16170]]\n",
            "Classification Report:\n",
            "               precision    recall  f1-score   support\n",
            "\n",
            "           0       1.00      1.00      1.00     16445\n",
            "           1       1.00      1.00      1.00     16170\n",
            "\n",
            "    accuracy                           1.00     32615\n",
            "   macro avg       1.00      1.00      1.00     32615\n",
            "weighted avg       1.00      1.00      1.00     32615\n",
            "\n",
            "ROC-AUC Score: 1.0\n"
          ]
        }
      ]
    }
  ]
}